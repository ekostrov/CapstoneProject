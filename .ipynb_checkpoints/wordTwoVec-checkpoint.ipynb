{
 "cells": [
  {
   "cell_type": "code",
   "execution_count": 16,
   "id": "c2a5ccfc",
   "metadata": {},
   "outputs": [],
   "source": [
    "import pandas as pd\n",
    "import numpy as np\n",
    "from tqdm import tqdm\n",
    "tqdm.pandas(desc=\"progress-bar\")\n",
    "from gensim.models import Doc2Vec\n",
    "from sklearn import utils\n",
    "from sklearn.model_selection import train_test_split\n",
    "import gensim\n",
    "from sklearn.linear_model import LogisticRegression\n",
    "from gensim.models.doc2vec import TaggedDocument\n",
    "import re\n",
    "import seaborn as sns\n",
    "import matplotlib.pyplot as plt"
   ]
  },
  {
   "cell_type": "code",
   "execution_count": 12,
   "id": "376d0ce2",
   "metadata": {},
   "outputs": [],
   "source": [
    "embeddings = models.KeyedVectors.load_word2vec_format(\"../data/GoogleNews-vectors-negative300.bin\", binary=True)"
   ]
  },
  {
   "cell_type": "code",
   "execution_count": 40,
   "id": "88c89510",
   "metadata": {},
   "outputs": [
    {
     "data": {
      "text/html": [
       "<div>\n",
       "<style scoped>\n",
       "    .dataframe tbody tr th:only-of-type {\n",
       "        vertical-align: middle;\n",
       "    }\n",
       "\n",
       "    .dataframe tbody tr th {\n",
       "        vertical-align: top;\n",
       "    }\n",
       "\n",
       "    .dataframe thead th {\n",
       "        text-align: right;\n",
       "    }\n",
       "</style>\n",
       "<table border=\"1\" class=\"dataframe\">\n",
       "  <thead>\n",
       "    <tr style=\"text-align: right;\">\n",
       "      <th></th>\n",
       "      <th>article</th>\n",
       "      <th>label</th>\n",
       "    </tr>\n",
       "  </thead>\n",
       "  <tbody>\n",
       "    <tr>\n",
       "      <th>0</th>\n",
       "      <td>here’s a line to amuse your liberal pals: when...</td>\n",
       "      <td>right</td>\n",
       "    </tr>\n",
       "    <tr>\n",
       "      <th>1</th>\n",
       "      <td>we’ve been hearing a lot of speculation that t...</td>\n",
       "      <td>right</td>\n",
       "    </tr>\n",
       "    <tr>\n",
       "      <th>2</th>\n",
       "      <td>physicians spreading medical misinformation, p...</td>\n",
       "      <td>right</td>\n",
       "    </tr>\n",
       "    <tr>\n",
       "      <th>3</th>\n",
       "      <td>washington, d.c. -- eighty-two percent of amer...</td>\n",
       "      <td>center</td>\n",
       "    </tr>\n",
       "    <tr>\n",
       "      <th>4</th>\n",
       "      <td>washington, d.c. -- fifty-six percent of ameri...</td>\n",
       "      <td>center</td>\n",
       "    </tr>\n",
       "  </tbody>\n",
       "</table>\n",
       "</div>"
      ],
      "text/plain": [
       "                                             article   label\n",
       "0  here’s a line to amuse your liberal pals: when...   right\n",
       "1  we’ve been hearing a lot of speculation that t...   right\n",
       "2  physicians spreading medical misinformation, p...   right\n",
       "3  washington, d.c. -- eighty-two percent of amer...  center\n",
       "4  washington, d.c. -- fifty-six percent of ameri...  center"
      ]
     },
     "execution_count": 40,
     "metadata": {},
     "output_type": "execute_result"
    }
   ],
   "source": [
    "df = pd.read_csv(\"data/test.csv\")\n",
    "df = df.sample(frac=1, random_state=42).reset_index(drop=True)\n",
    "df.article = df.article.apply(lambda x: x.replace(\"SHARE\",\"\")).apply(lambda x: x.lower())\n",
    "df.head()"
   ]
  },
  {
   "cell_type": "code",
   "execution_count": 41,
   "id": "8db5a2ed",
   "metadata": {},
   "outputs": [
    {
     "data": {
      "text/plain": [
       "3498818"
      ]
     },
     "execution_count": 41,
     "metadata": {},
     "output_type": "execute_result"
    }
   ],
   "source": [
    "df.article.apply(lambda x: len(x.split(' '))).sum()"
   ]
  },
  {
   "cell_type": "code",
   "execution_count": 42,
   "id": "6f511b3f",
   "metadata": {},
   "outputs": [],
   "source": [
    "cnt_pro = df['label'].value_counts()"
   ]
  },
  {
   "cell_type": "code",
   "execution_count": 43,
   "id": "2c26b052",
   "metadata": {},
   "outputs": [
    {
     "name": "stderr",
     "output_type": "stream",
     "text": [
      "/home/ekostrov/anaconda3/lib/python3.8/site-packages/seaborn/_decorators.py:36: FutureWarning: Pass the following variables as keyword args: x, y. From version 0.12, the only valid positional argument will be `data`, and passing other arguments without an explicit keyword will result in an error or misinterpretation.\n",
      "  warnings.warn(\n"
     ]
    },
    {
     "data": {
      "image/png": "[encoded data removed]",
      "text/plain": [
       "<Figure size 1080x576 with 1 Axes>"
      ]
     },
     "metadata": {
      "needs_background": "light"
     },
     "output_type": "display_data"
    }
   ],
   "source": [
    "plt.figure(figsize=(15,8))\n",
    "sns.barplot(cnt_pro.index, cnt_pro.values, alpha=0.8)\n",
    "plt.ylabel('Number of Occurrences', fontsize=12)\n",
    "plt.xlabel('Label', fontsize=12)\n",
    "plt.xticks(rotation=90)\n",
    "plt.show();"
   ]
  },
  {
   "cell_type": "code",
   "execution_count": null,
   "id": "a15468eb",
   "metadata": {},
   "outputs": [],
   "source": []
  },
  {
   "cell_type": "code",
   "execution_count": 44,
   "id": "24ed0dc2",
   "metadata": {},
   "outputs": [],
   "source": [
    "def print_article(indx):\n",
    "    article = df[df.index == indx][['article', 'label']].values[0]\n",
    "    if len(article) > 0:\n",
    "        print(article[0])\n",
    "        print('Label:', article[1])"
   ]
  },
  {
   "cell_type": "code",
   "execution_count": 45,
   "id": "fd865688",
   "metadata": {},
   "outputs": [
    {
     "name": "stdout",
     "output_type": "stream",
     "text": [
      "“follow the science!” is all we hear, along with how dare we question “the science.” well, let’s bring the vigorous boil down to a low simmer for a minute so we can get to the root of things, shall we?as a layperson, not a scientist or medical professional, i would never offer medical advice. however, i can understand simple english and science, and can apply that knowledge to search for the definition of “science.”perceiving a trend exists, let’s agree for the moment that, in the everyday language we regular folks use, “science” means “what we know” about a specific area of study, research, etc.for example, nearly everyone understands the simple chemical and physical characteristics of water. water (two hydrogen atoms and one oxygen atom) is found in three forms: vapor, liquid, or solid. water boils at 212 degrees fahrenheit and freezes at 32 degrees. we can change those values by introducing variables of salinity or atmospheric pressure, but h2o is a stable compound and provides predictable, observable, repeatable results.can we agree that every scientific discipline is unique? for instance, what we know about biology is different from physics, which is different from meteorology, astrophysics, biophysics, and immunology—correct? therefore, we do not ask rocket scientists to perform brain surgery, nor do we require neurosurgeons to calculate the parameters for nasa missions to re-enter the atmosphere. also, it would be a logical fallacy to assume that the precision and success that may characterize one realm of science can automatically be expected in another.for example, the universe and our solar system have been created in a manner that provides incredible stability and predictability. scientists today can predict the exact moment an eclipse will occur and the shadow’s precise track across the earth. they can do so because of the stability of the system and the absence of independent variables.ah, variables. in meteorology and climate sciences, all meteorologists will admit they cannot accurately predict weather beyond 5-7 days. i believe this is because there are too many independent variables that affect the atmosphere, the global climate, and the weather on any given day.let’s move on to the details about the “science” of our response to the covid pandemic because “what we know” has changed. if we can understand one thing about our sciences and what we know, it should be that nearly everything we know is subject to change. as what we know changes, we should be making sufficient changes to our actions to manage desired outcomes effectively.in late 2019, there was an uncontrolled outbreak of a novel (new) coronavirus in wuhan, china, and people there were dying of a mysteriously bad respiratory “flu.” by late january, the coronavirus was ashore in the united states. by march 2020, the novel coronavirus had spread to the point that we locked down the citizens of the united states and effectively shut down the economy.we did so chiefly because the models predicted over 1 million and as many and 2 million american deaths if we did nothing. we needed to “flatten the curve;” that is, manage and reduce the numbers of sick patients sure to overwhelm the hospitals.we were never—never—going to do “nothing.” we were therefore victims of the models’ predictions. the messaging that went forth to scare the daylights out of everyone and remove every square of toilet paper from every store shelf was flawed from the outset. the notable exceptions were the few state governments that accurately and effectively identified the hazards to those most at-risk and managed the risks to their citizens.for the remainder of 2020, the primary strategies to deal with the pandemic were lockdowns, masks, social distancing, handwashing, and hand sanitizers. there was very little messaging or instruction on dietary supplements or medicines to prevent infection. we mostly had to rely on ourselves to apply what we knew (the science) about how to avoid illness during the cold and flu seasons and employ our knowledge the best we could against covid-19.the scientific community has studiously and conscientiously reviewed the science behind the government-mandated shutdowns, their restrictions to preventative and therapeutic medicines, the masks—all of it. the best we can conclude after 18 months of the pandemic is that none of it made a significant impact. for all the very real pain and loss from the government mandates, we didn’t change the outcome.our reliance on promised vaccines, in my average, everydaylayperson’s opinion, has been a self-imposed vulnerability and a self-inflicted wound. despite reliable, peer-reviewed studies that indicated positive results from early intervention with both hydroxychloroquine (hcq) and ivermectin (ivm), the powers-that-be in the u.s. government’s medical bureaucracies have restricted their use, and they actively continue to suppress the supply of hcq and ivm in spite of positive results worldwide. in addition, the federal government is now restricting the distribution of effective monoclonal antibody preventative and treatment to coerce americans to get vaccinated.where is the science that supports this? contrary to the restrictions in the united states, the preponderance of the evidence for the use of these medicines supports their safety and effectiveness against the covid-19 disease. even further, what we know from science and objective data should lead us to conclude that neglecting to prescribe preventative medicine and waiting to aggressively treat the disease until hospitalization and intubation are required puts patients at higher risk of death. macon county is one of the rare governments working to keep citizens out of the hospital:in late 2020 when the vaccines were approved for emergency use—because they are experimental messenger rna vaccines—they were said to be over 90% effective against the virus that causes the covid-19 illness. the messaging was that the vaccines would save us. with the worldwide distribution of the vaccines, cases and hospitalizations dropped significantly and we began to believe we were emerging from the nightmare.the science, however, is that viruses mutate, and now we are battling the delta variant. but our strategies have not changed even though we know the vaccines have waning effectiveness. with the high number of “breakthrough” infections, the blame for the rise in cases is on the unvaccinated, because the government’s strategy is vaccination and only vaccination.the government’s response is myopic at best and dangerous at worst. at the same time, the installed administration has continued to push for vaccinations, an uncontrolled influx of untested and unvaccinated illegal aliens stream across our southern border and are released into communities across the country. it is no less than criminal negligence or a criminal enterprise, in my opinion. the installed administration and its alphabet soup of “health” agencies have only accomplished subjugating american citizens.let’s change our plan because what we know about covid-19 and how to prevent it and treat it has changed. you can do your research, talk to your doctor, and come up with a plan.the government is not going to save us.\n",
      "Label: right\n"
     ]
    }
   ],
   "source": [
    "print_article(12)"
   ]
  },
  {
   "cell_type": "code",
   "execution_count": 46,
   "id": "f3935c18",
   "metadata": {},
   "outputs": [
    {
     "name": "stdout",
     "output_type": "stream",
     "text": [
      "washington, d.c. -- ninety-four percent of u.s. adults now approve of marriages between black people and white people, up from 87% in the prior reading from 2013. the current figure marks a new high in gallup's trend, which spans more than six decades. just 4% approved when gallup first asked the question in 1958.line graph. the percentages of americans who approve of marriage between black people and white people. 94% of americans in 2021 approve of these unions, a record in gallup's trend and up from 4% the first time the question was asked in 1958.the latest figure is from a gallup poll conducted july 6-21. shifts in the 63-year-old trend represent one of the largest transformations in public opinion in gallup's history -- beginning at a time when interracial marriage was nearly universally opposed and continuing to its nearly universal approval today.the u.s. supreme court legalized interracial marriage nationwide in the 1967 loving v. virginia case. a year after that decision, gallup found support for the practice increasing, but still only a small minority of 20% approved.approval of interracial marriage continued to grow in the u.s. in periodic readings gallup took over the following decades, finally reaching majority level in 1997, when support jumped from 48% to 64%. support has increased in subsequent measures, surpassing 70% in 2003, 80% in 2011 and 90% in the current reading.non-white americans have been consistently more approving of interracial marriages than white americans -- but that gap has narrowed over time and, in the latest reading, has nearly closed.previous measures from 1968 to 2013 found double-digit gaps in approval between white and non-white adults. today, the three percentage points that separate approval among white (93%) and non-white adults (96%) is within the poll's margin of error.recent growth at the national level has been driven by increasing approval among white americans, as approval among non-white americans has been unchanged over the past decade.majorities of non-white adults since 1968 have approved of interracial marriage. it was not until 1997 that a majority of white adults held that opinion.line graph. americans' approval of interracial marriage, by racial group. in 2021, 93% of white adults and 96% of non-white adults approve of interracial marriage, up from 17% and 56%, respectively, in 1968. younger adults in the u.s. have consistently been more likely than their older peers to approve of marriages between black people and white people. but these generational differences have shrunk, as older adults are now nearly as supportive of interracial marriages as younger adults are.but americans in all age groups today are more supportive of black-white marriages than adults in the same age group were in the past, particularly among older adults. in 1991, 27% of u.s. adults aged 50 and older approved of interracial marriages, compared with 91% today.in previous decades, americans living in the east, midwest and west were generally more approving of marriages between black people and white people than those living in the south.at this point in the trend, however, approval of interracial marriage is nearly universal across all regions, almost closing the regional gaps that existed in earlier parts of the trend.americans are now nearly unanimous in their approval of marriages between black people and white people. the shifts over time document changes in u.s. social mores as well as differing attitudes between current and past generations of americans.a similar gradual change can be seen in willingness to vote for a black presidential candidate, a trend that spans just as much time as gallup's trend on interracial marriage. while voting for a black candidate was unpopular in the 1950s, nearly all americans say they would be willing to do so today. americans' ideas about marriage, too, have changed. solid majorities now support same-sex marriage, and larger majorities than in the past view divorce as morally acceptable.at the same time, americans have become less likely to say that civil rights for black americans have improved, and they have recently become more likely to say that new civil rights laws are needed to reduce discrimination against black people.opposition to interracial marriage still exists, but it is quite small. future measures will indicate whether 94% is the ceiling for approval, or if there is still room for growth in acceptance.to stay up to date with the latest gallup news insights and updates, follow us on twitter.learn more about how the gallup poll social series works.view complete question responses and trends (pdf download).\n",
      "Label: center\n"
     ]
    }
   ],
   "source": [
    "print_article(45)"
   ]
  },
  {
   "cell_type": "code",
   "execution_count": 47,
   "id": "8e43fe73",
   "metadata": {},
   "outputs": [],
   "source": [
    "from bs4 import BeautifulSoup"
   ]
  },
  {
   "cell_type": "code",
   "execution_count": 48,
   "id": "525a1c3a",
   "metadata": {},
   "outputs": [],
   "source": [
    "def cleanText(text):\n",
    "    text = BeautifulSoup(text, 'lxml').text\n",
    "    text = re.sub(r'\\|\\|\\|', r' ', text) \n",
    "    text = re.sub(r'http\\S+', r'<URL>', text)\n",
    "    text = text.lower()\n",
    "    text = text.replace('x', '')\n",
    "    return text"
   ]
  },
  {
   "cell_type": "code",
   "execution_count": 49,
   "id": "7ac983ee",
   "metadata": {},
   "outputs": [],
   "source": [
    "df.article = df.article.apply(cleanText)"
   ]
  },
  {
   "cell_type": "code",
   "execution_count": 50,
   "id": "72d41564",
   "metadata": {},
   "outputs": [
    {
     "name": "stdout",
     "output_type": "stream",
     "text": [
      "washington, d.c. -- ninety-four percent of u.s. adults now approve of marriages between black people and white people, up from 87% in the prior reading from 2013. the current figure marks a new high in gallup's trend, which spans more than si decades. just 4% approved when gallup first asked the question in 1958.line graph. the percentages of americans who approve of marriage between black people and white people. 94% of americans in 2021 approve of these unions, a record in gallup's trend and up from 4% the first time the question was asked in 1958.the latest figure is from a gallup poll conducted july 6-21. shifts in the 63-year-old trend represent one of the largest transformations in public opinion in gallup's history -- beginning at a time when interracial marriage was nearly universally opposed and continuing to its nearly universal approval today.the u.s. supreme court legalized interracial marriage nationwide in the 1967 loving v. virginia case. a year after that decision, gallup found support for the practice increasing, but still only a small minority of 20% approved.approval of interracial marriage continued to grow in the u.s. in periodic readings gallup took over the following decades, finally reaching majority level in 1997, when support jumped from 48% to 64%. support has increased in subsequent measures, surpassing 70% in 2003, 80% in 2011 and 90% in the current reading.non-white americans have been consistently more approving of interracial marriages than white americans -- but that gap has narrowed over time and, in the latest reading, has nearly closed.previous measures from 1968 to 2013 found double-digit gaps in approval between white and non-white adults. today, the three percentage points that separate approval among white (93%) and non-white adults (96%) is within the poll's margin of error.recent growth at the national level has been driven by increasing approval among white americans, as approval among non-white americans has been unchanged over the past decade.majorities of non-white adults since 1968 have approved of interracial marriage. it was not until 1997 that a majority of white adults held that opinion.line graph. americans' approval of interracial marriage, by racial group. in 2021, 93% of white adults and 96% of non-white adults approve of interracial marriage, up from 17% and 56%, respectively, in 1968. younger adults in the u.s. have consistently been more likely than their older peers to approve of marriages between black people and white people. but these generational differences have shrunk, as older adults are now nearly as supportive of interracial marriages as younger adults are.but americans in all age groups today are more supportive of black-white marriages than adults in the same age group were in the past, particularly among older adults. in 1991, 27% of u.s. adults aged 50 and older approved of interracial marriages, compared with 91% today.in previous decades, americans living in the east, midwest and west were generally more approving of marriages between black people and white people than those living in the south.at this point in the trend, however, approval of interracial marriage is nearly universal across all regions, almost closing the regional gaps that eisted in earlier parts of the trend.americans are now nearly unanimous in their approval of marriages between black people and white people. the shifts over time document changes in u.s. social mores as well as differing attitudes between current and past generations of americans.a similar gradual change can be seen in willingness to vote for a black presidential candidate, a trend that spans just as much time as gallup's trend on interracial marriage. while voting for a black candidate was unpopular in the 1950s, nearly all americans say they would be willing to do so today. americans' ideas about marriage, too, have changed. solid majorities now support same-se marriage, and larger majorities than in the past view divorce as morally acceptable.at the same time, americans have become less likely to say that civil rights for black americans have improved, and they have recently become more likely to say that new civil rights laws are needed to reduce discrimination against black people.opposition to interracial marriage still eists, but it is quite small. future measures will indicate whether 94% is the ceiling for approval, or if there is still room for growth in acceptance.to stay up to date with the latest gallup news insights and updates, follow us on twitter.learn more about how the gallup poll social series works.view complete question responses and trends (pdf download).\n",
      "Label: center\n"
     ]
    }
   ],
   "source": [
    "print_article(45)"
   ]
  },
  {
   "cell_type": "code",
   "execution_count": 70,
   "id": "2bf510f7",
   "metadata": {},
   "outputs": [],
   "source": [
    "train, test = train_test_split(df, test_size=0.2, random_state=42)"
   ]
  },
  {
   "cell_type": "code",
   "execution_count": 71,
   "id": "0ffd3183",
   "metadata": {},
   "outputs": [],
   "source": [
    "import nltk\n",
    "from nltk.corpus import stopwords"
   ]
  },
  {
   "cell_type": "code",
   "execution_count": 74,
   "id": "1a6680c7",
   "metadata": {},
   "outputs": [],
   "source": [
    "def tokenize_text(text):\n",
    "    tokens = []\n",
    "    for sent in nltk.sent_tokenize(text):\n",
    "        for word in nltk.word_tokenize(sent):\n",
    "            if len(word) < 2:\n",
    "                continue\n",
    "            #if word in stopwords:\n",
    "            #    continue\n",
    "            tokens.append(word.lower())\n",
    "    return tokens"
   ]
  },
  {
   "cell_type": "code",
   "execution_count": 75,
   "id": "d5a63df8",
   "metadata": {},
   "outputs": [],
   "source": [
    "train_tagged = train.apply(\n",
    "    lambda r: TaggedDocument(words=tokenize_text(r['article']),\n",
    "                             tags=[r.label]), axis=1)"
   ]
  },
  {
   "cell_type": "code",
   "execution_count": 76,
   "id": "7e35bbb2",
   "metadata": {},
   "outputs": [],
   "source": [
    "test_tagged = test.apply(\n",
    "    lambda r: TaggedDocument(words=tokenize_text(r['article']),\n",
    "                             tags=[r.label]), axis=1)"
   ]
  },
  {
   "cell_type": "code",
   "execution_count": 77,
   "id": "be907371",
   "metadata": {},
   "outputs": [
    {
     "data": {
      "text/plain": [
       "TaggedDocument(words=['freedom', 'of', 'the', 'press', 'is', 'limited', 'to', 'those', 'who', 'own', 'one.', 'h.', 'l.', 'mencken', 'presser', 'is', 'media', 'slang', 'for', 'press', 'conference', 'in', 'theory', 'an', 'opportunity', 'for', 'political', 'mandarins', 'to', 'keep', 'the', 'public', 'informed', 'the', 'difference', 'between', 'trump', 'and', 'biden', 'presser', 'is', 'astonishing', 'especially', 'if', 'there', 'bad', 'news', 'on', 'the', 'front', 'page.president', 'trump', 'was', 'savaged', 'daily', 'by', 'rude', 'often', 'nasty', 'reporters', 'president', 'biden', 'amidst', 'the', 'ongoing', 'afghan', 'crisis', 'is', 'gifted', 'with', 'softballs', 'from', 'the', 'same', 'journalists', 'adding', 'insult', 'to', 'alibi', 'the', 'press', 'has', 'covid-19', 'and', 'hurricane', 'ida', 'as', 'an', 'ecuse', 'to', 'avoid', 'covering', 'the', 'unfolding', 'disaster', 'in', 'south', 'asia.before', 'bidens', 'big', 'fail', 'is', 'consigned', 'to', 'page', 'si', 'group', 'of', 'erstwhile', 'intelligence', 'officers', 'that', 'know', 'hascompiled', 'selection', 'of', 'questions', 'for', 'the', 'president', 'questions', 'that', 'pandering', 'media', 'might', 'never', 'ask', 'call', 'it', 'fantasy', 'press', 'conference', 'are', 'you', 'aware', 'that', 'the', 'soviets', 'withdrew', 'from', 'afghanistan', 'in', '1989', 'on', 'parade', 'flags', 'flying', 'equipment', 'intact', 'in', 'broad', 'daylight', 'without', 'casualties', 'or', 'opposition.soviets', 'leaving', 'afghanistan', '1989', '//', 'ria', 'novosti', 'via', 'wikipedia//', 'cc', 'by-sa', '3.0more', 'photos', 'here.what', 'do', 'you', 'think', 'that', 'contrast', 'says', 'about', 'our', 'military', 'performance', 'especially', 'competence', 'and', 'leadership', 'is', 'afghanistan', 'still', 'win', 'today', 'were', 'you', 'epecting', 'to', 'take', 'victory', 'lap', 'this', 'september', 'wouldn', 'it', 'be', 'more', 'appropriate', 'to', 'call', 'what', 'we', 'saw', 'as', 'rout', 'defeat', 'retreat', 'or', 'even', 'humiliation', 'do', 'you', 'think', 'that', 'the', 'taliban', 'and', 'associated', 'resident', 'terror', 'networks', 'are', 'about', 'to', 'quit', 'too', 'as', 'new', 'graves', 'are', 'dug', 'at', 'arlington', 'do', 'you', 'stand', 'by', 'that', 'assessment', 'of', 'isis', 'do', 'you', 'think', 'american', 'standing', 'in', 'the', 'world', 'has', 'been', 'damaged', 'by', 'your', 'administration', 'performance', 'in', 'afghanistan', 'do', 'you', 'think', 'turkey', 'is', 'true', 'nato', 'partner', '--', 'or', 'reliable', 'ally', 'in', 'the', 'war', 'on', 'terror', 'do', 'you', 'have', 'position', 'on', 'turkish', 'reliability', 'as', 'partner', 'how', 'do', 'you', 'square', 'that', 'circle', 'is', 'it', 'not', 'possible', 'that', 'hate', 'for', 'infidels', 'in', 'general', 'and', 'hate', 'for', 'america', 'in', 'particular', 'trumps', 'any', 'petty', 'intramural', 'squabbles', 'do', 'you', 'think', 'airpower', 'alone', 'wins', 'wars', 'or', 'are', 'drone', 'strikes', 'just', 'the', 'most', 'convenient', 'or', 'most', 'economical', 'way', 'to', 'limit', 'u.s.', 'casualties', 'while', 'making', 'it', 'appear', 'that', 'your', 'team', 'is', 'doing', 'something', 'about', 'islamofascism', 'what', 'are', 'you', 'giving', 'the', 'taliban', 'for', 'allowing', 'evacuees', 'to', 'depart', 'afghanistan', 'in', 'september', 'and', 'beyond', 'given', 'the', 'number', 'of', 'global', 'islamist', 'groups', 'now', 'recognized', 'by', 'the', 'counter', 'terrorism', 'center', 'is', 'it', 'not', 'possible', 'that', 'the', 'muslim', 'jihad', 'is', 'strategic', 'threat', 'how', 'would', 'you', 'characterize', 'the', 'so-called', 'war', 'on', 'terror', 'win', 'loss', 'or', 'draw', 'does', 'the', 'pentagon', 'still', 'believe', 'in', 'winning', 'today', 'how', 'many', 'islamist', 'states', 'have', 'to', 'possess', 'nuclear', 'weapons', 'before', 'the', 'global', 'jihad', 'becomes', 'an', 'eistential', 'threat', 'to', 'america', 'which', 'is', 'it', 'thank', 'you', 'sir'], tags=['right'])"
      ]
     },
     "execution_count": 77,
     "metadata": {},
     "output_type": "execute_result"
    }
   ],
   "source": [
    "train_tagged.values[30]"
   ]
  },
  {
   "cell_type": "code",
   "execution_count": 78,
   "id": "afc6afc9",
   "metadata": {},
   "outputs": [],
   "source": [
    "import multiprocessing\n",
    "cores = multiprocessing.cpu_count()"
   ]
  },
  {
   "cell_type": "code",
   "execution_count": 79,
   "id": "703373b9",
   "metadata": {},
   "outputs": [
    {
     "name": "stderr",
     "output_type": "stream",
     "text": [
      "100%|██████████████████████████████████| 2793/2793 [00:00<00:00, 1062460.65it/s]\n"
     ]
    }
   ],
   "source": [
    "model_dbow = Doc2Vec(dm=0, vector_size=300, negative=5, hs=0, min_count=2, sample = 0, workers=cores)\n",
    "model_dbow.build_vocab([x for x in tqdm(train_tagged.values)])"
   ]
  },
  {
   "cell_type": "code",
   "execution_count": 80,
   "id": "b078ea9e",
   "metadata": {},
   "outputs": [
    {
     "name": "stderr",
     "output_type": "stream",
     "text": [
      "100%|██████████████████████████████████| 2793/2793 [00:00<00:00, 1076717.93it/s]\n",
      "100%|██████████████████████████████████| 2793/2793 [00:00<00:00, 1210945.95it/s]\n",
      "100%|██████████████████████████████████| 2793/2793 [00:00<00:00, 1267686.51it/s]\n",
      "100%|██████████████████████████████████| 2793/2793 [00:00<00:00, 1370941.03it/s]\n",
      "100%|██████████████████████████████████| 2793/2793 [00:00<00:00, 1295156.56it/s]\n",
      "100%|██████████████████████████████████| 2793/2793 [00:00<00:00, 1210570.54it/s]\n",
      "100%|██████████████████████████████████| 2793/2793 [00:00<00:00, 1183541.23it/s]\n",
      "100%|██████████████████████████████████| 2793/2793 [00:00<00:00, 1188343.59it/s]\n",
      "100%|██████████████████████████████████| 2793/2793 [00:00<00:00, 2623083.54it/s]\n",
      "100%|██████████████████████████████████| 2793/2793 [00:00<00:00, 1184977.85it/s]\n",
      "100%|██████████████████████████████████| 2793/2793 [00:00<00:00, 1397100.90it/s]\n",
      "100%|██████████████████████████████████| 2793/2793 [00:00<00:00, 2758344.97it/s]\n",
      "100%|██████████████████████████████████| 2793/2793 [00:00<00:00, 2732608.13it/s]\n",
      "100%|██████████████████████████████████| 2793/2793 [00:00<00:00, 1112611.94it/s]\n",
      "100%|██████████████████████████████████| 2793/2793 [00:00<00:00, 2637255.98it/s]\n",
      "100%|██████████████████████████████████| 2793/2793 [00:00<00:00, 2681320.91it/s]\n",
      "100%|██████████████████████████████████| 2793/2793 [00:00<00:00, 1050833.43it/s]\n",
      "100%|██████████████████████████████████| 2793/2793 [00:00<00:00, 1291729.09it/s]\n",
      "100%|██████████████████████████████████| 2793/2793 [00:00<00:00, 1195254.68it/s]\n",
      "100%|██████████████████████████████████| 2793/2793 [00:00<00:00, 2545565.20it/s]\n",
      "100%|██████████████████████████████████| 2793/2793 [00:00<00:00, 1203852.75it/s]\n",
      "100%|██████████████████████████████████| 2793/2793 [00:00<00:00, 1414817.76it/s]\n",
      "100%|██████████████████████████████████| 2793/2793 [00:00<00:00, 2606160.42it/s]\n",
      "100%|██████████████████████████████████| 2793/2793 [00:00<00:00, 2466770.07it/s]\n",
      "100%|██████████████████████████████████| 2793/2793 [00:00<00:00, 2162179.97it/s]\n",
      "100%|██████████████████████████████████| 2793/2793 [00:00<00:00, 1275554.34it/s]\n",
      "100%|██████████████████████████████████| 2793/2793 [00:00<00:00, 2644996.86it/s]\n",
      "100%|██████████████████████████████████| 2793/2793 [00:00<00:00, 1324741.72it/s]\n",
      "100%|██████████████████████████████████| 2793/2793 [00:00<00:00, 1363124.40it/s]\n",
      "100%|██████████████████████████████████| 2793/2793 [00:00<00:00, 1156093.07it/s]\n"
     ]
    },
    {
     "name": "stdout",
     "output_type": "stream",
     "text": [
      "CPU times: user 9min 19s, sys: 1.68 s, total: 9min 20s\n",
      "Wall time: 43.3 s\n"
     ]
    }
   ],
   "source": [
    "%%time\n",
    "for epoch in range(30):\n",
    "    model_dbow.train(utils.shuffle([x for x in tqdm(train_tagged.values)]), total_examples=len(train_tagged.values), epochs=1)\n",
    "    model_dbow.alpha -= 0.002\n",
    "    model_dbow.min_alpha = model_dbow.alpha"
   ]
  },
  {
   "cell_type": "code",
   "execution_count": 88,
   "id": "d08f8c1c",
   "metadata": {},
   "outputs": [],
   "source": [
    "def vec_for_learning(model, tagged_docs):\n",
    "    sents = tagged_docs.values\n",
    "    targets, regressors = zip(*[(doc.tags[0], model.infer_vector(doc.words, epochs=20)) for doc in sents])\n",
    "    return targets, regressors"
   ]
  },
  {
   "cell_type": "code",
   "execution_count": 89,
   "id": "c88f9bb6",
   "metadata": {},
   "outputs": [],
   "source": [
    "y_train, X_train = vec_for_learning(model_dbow, train_tagged)"
   ]
  },
  {
   "cell_type": "code",
   "execution_count": 90,
   "id": "e049a445",
   "metadata": {},
   "outputs": [],
   "source": [
    "y_test, X_test = vec_for_learning(model_dbow, test_tagged)"
   ]
  },
  {
   "cell_type": "code",
   "execution_count": 94,
   "id": "cb1e4e61",
   "metadata": {},
   "outputs": [],
   "source": [
    "logreg = LogisticRegression(n_jobs=1, C=1e5, max_iter=10000)\n",
    "logreg.fit(X_train, y_train)\n",
    "y_pred = logreg.predict(X_test)"
   ]
  },
  {
   "cell_type": "code",
   "execution_count": 95,
   "id": "3c37f5d3",
   "metadata": {},
   "outputs": [
    {
     "name": "stdout",
     "output_type": "stream",
     "text": [
      "Testing accuracy 0.4978540772532189\n",
      "Testing F1 score: 0.5005227931911534\n"
     ]
    }
   ],
   "source": [
    "from sklearn.metrics import accuracy_score, f1_score\n",
    "\n",
    "print('Testing accuracy %s' % accuracy_score(y_test, y_pred))\n",
    "print('Testing F1 score: {}'.format(f1_score(y_test, y_pred, average='weighted')))"
   ]
  },
  {
   "cell_type": "code",
   "execution_count": 96,
   "id": "2790c510",
   "metadata": {},
   "outputs": [
    {
     "name": "stderr",
     "output_type": "stream",
     "text": [
      "100%|██████████████████████████████████| 2793/2793 [00:00<00:00, 1347755.53it/s]\n"
     ]
    }
   ],
   "source": [
    "model_dmm = Doc2Vec(dm=1, dm_mean=1, vector_size=300, window=10, negative=5, min_count=1, workers=5, alpha=0.065, min_alpha=0.065)\n",
    "model_dmm.build_vocab([x for x in tqdm(train_tagged.values)])"
   ]
  },
  {
   "cell_type": "code",
   "execution_count": 97,
   "id": "25b0d408",
   "metadata": {},
   "outputs": [
    {
     "name": "stderr",
     "output_type": "stream",
     "text": [
      "100%|██████████████████████████████████| 2793/2793 [00:00<00:00, 1813981.27it/s]\n",
      "100%|██████████████████████████████████| 2793/2793 [00:00<00:00, 1213831.84it/s]\n",
      "100%|██████████████████████████████████| 2793/2793 [00:00<00:00, 1246243.73it/s]\n",
      "100%|██████████████████████████████████| 2793/2793 [00:00<00:00, 1007975.48it/s]\n",
      "100%|██████████████████████████████████| 2793/2793 [00:00<00:00, 1450556.10it/s]\n",
      "100%|██████████████████████████████████| 2793/2793 [00:00<00:00, 1439858.78it/s]\n",
      "100%|██████████████████████████████████| 2793/2793 [00:00<00:00, 1450196.96it/s]\n",
      "100%|██████████████████████████████████| 2793/2793 [00:00<00:00, 1382917.14it/s]\n",
      "100%|██████████████████████████████████| 2793/2793 [00:00<00:00, 1455964.59it/s]\n",
      "100%|██████████████████████████████████| 2793/2793 [00:00<00:00, 1239518.68it/s]\n",
      "100%|██████████████████████████████████| 2793/2793 [00:00<00:00, 2764202.71it/s]\n",
      "100%|██████████████████████████████████| 2793/2793 [00:00<00:00, 1433866.72it/s]\n",
      "100%|██████████████████████████████████| 2793/2793 [00:00<00:00, 2534001.96it/s]\n",
      "100%|██████████████████████████████████| 2793/2793 [00:00<00:00, 2907592.72it/s]\n",
      "100%|██████████████████████████████████| 2793/2793 [00:00<00:00, 1180797.41it/s]\n",
      "100%|██████████████████████████████████| 2793/2793 [00:00<00:00, 1255728.49it/s]\n",
      "100%|██████████████████████████████████| 2793/2793 [00:00<00:00, 2555003.51it/s]\n",
      "100%|██████████████████████████████████| 2793/2793 [00:00<00:00, 1379984.81it/s]\n",
      "100%|██████████████████████████████████| 2793/2793 [00:00<00:00, 2428418.55it/s]\n",
      "100%|██████████████████████████████████| 2793/2793 [00:00<00:00, 3345143.08it/s]\n",
      "100%|██████████████████████████████████| 2793/2793 [00:00<00:00, 1362173.38it/s]\n",
      "100%|██████████████████████████████████| 2793/2793 [00:00<00:00, 2973271.85it/s]\n",
      "100%|██████████████████████████████████| 2793/2793 [00:00<00:00, 1321901.50it/s]\n",
      "100%|██████████████████████████████████| 2793/2793 [00:00<00:00, 1497085.12it/s]\n",
      "100%|██████████████████████████████████| 2793/2793 [00:00<00:00, 1397934.50it/s]\n",
      "100%|██████████████████████████████████| 2793/2793 [00:00<00:00, 2931604.37it/s]\n",
      "100%|██████████████████████████████████| 2793/2793 [00:00<00:00, 3461788.14it/s]\n",
      "100%|██████████████████████████████████| 2793/2793 [00:00<00:00, 1363759.15it/s]\n",
      "100%|██████████████████████████████████| 2793/2793 [00:00<00:00, 1244787.07it/s]\n",
      "100%|██████████████████████████████████| 2793/2793 [00:00<00:00, 1274166.96it/s]\n"
     ]
    },
    {
     "name": "stdout",
     "output_type": "stream",
     "text": [
      "CPU times: user 9min 41s, sys: 987 ms, total: 9min 42s\n",
      "Wall time: 1min 58s\n"
     ]
    }
   ],
   "source": [
    "%%time\n",
    "for epoch in range(30):\n",
    "    model_dmm.train(utils.shuffle([x for x in tqdm(train_tagged.values)]), total_examples=len(train_tagged.values), epochs=1)\n",
    "    model_dmm.alpha -= 0.002\n",
    "    model_dmm.min_alpha = model_dmm.alpha"
   ]
  },
  {
   "cell_type": "code",
   "execution_count": 98,
   "id": "cbbac7f3",
   "metadata": {},
   "outputs": [
    {
     "name": "stdout",
     "output_type": "stream",
     "text": [
      "Testing accuracy 0.9742489270386266\n",
      "Testing F1 score: 0.9742896565537155\n"
     ]
    }
   ],
   "source": [
    "y_train, X_train = vec_for_learning(model_dmm, train_tagged)\n",
    "y_test, X_test = vec_for_learning(model_dmm, test_tagged)\n",
    "\n",
    "logreg.fit(X_train, y_train)\n",
    "y_pred = logreg.predict(X_test)\n",
    "\n",
    "print('Testing accuracy %s' % accuracy_score(y_test, y_pred))\n",
    "print('Testing F1 score: {}'.format(f1_score(y_test, y_pred, average='weighted')))"
   ]
  },
  {
   "cell_type": "code",
   "execution_count": 102,
   "id": "5013eece",
   "metadata": {},
   "outputs": [],
   "source": [
    "from gensim.test.test_doc2vec import ConcatenatedDoc2Vec\n",
    "new_model = ConcatenatedDoc2Vec([model_dbow, model_dmm])"
   ]
  },
  {
   "cell_type": "code",
   "execution_count": 105,
   "id": "a7050924",
   "metadata": {},
   "outputs": [],
   "source": [
    "def get_vectors(model, tagged_docs):\n",
    "    sents = tagged_docs.values\n",
    "    targets, regressors = zip(*[(doc.tags[0], model.infer_vector(doc.words, epochs=20)) for doc in sents])\n",
    "    return targets, regressors"
   ]
  },
  {
   "cell_type": "code",
   "execution_count": 106,
   "id": "1a4f21b8",
   "metadata": {},
   "outputs": [
    {
     "name": "stdout",
     "output_type": "stream",
     "text": [
      "Testing accuracy 0.9670958512160229\n",
      "Testing F1 score: 0.9672413205550757\n"
     ]
    }
   ],
   "source": [
    "y_train, X_train = get_vectors(new_model, train_tagged)\n",
    "y_test, X_test = get_vectors(new_model, test_tagged)\n",
    "\n",
    "logreg.fit(X_train, y_train)\n",
    "y_pred = logreg.predict(X_test)\n",
    "\n",
    "print('Testing accuracy %s' % accuracy_score(y_test, y_pred))\n",
    "print('Testing F1 score: {}'.format(f1_score(y_test, y_pred, average='weighted')))"
   ]
  },
  {
   "cell_type": "code",
   "execution_count": null,
   "id": "7861e883",
   "metadata": {},
   "outputs": [],
   "source": []
  }
 ],
 "metadata": {
  "kernelspec": {
   "display_name": "Python 3 (ipykernel)",
   "language": "python",
   "name": "python3"
  },
  "language_info": {
   "codemirror_mode": {
    "name": "ipython",
    "version": 3
   },
   "file_extension": ".py",
   "mimetype": "text/x-python",
   "name": "python",
   "nbconvert_exporter": "python",
   "pygments_lexer": "ipython3",
   "version": "3.8.8"
  }
 },
 "nbformat": 4,
 "nbformat_minor": 5
}
