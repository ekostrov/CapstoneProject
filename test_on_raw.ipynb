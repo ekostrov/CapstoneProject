{
 "cells": [
  {
   "cell_type": "code",
   "execution_count": 36,
   "id": "8819308d",
   "metadata": {},
   "outputs": [],
   "source": [
    "import pandas as pd\n",
    "from sklearn.model_selection import train_test_split"
   ]
  },
  {
   "cell_type": "code",
   "execution_count": 37,
   "id": "a43a12cb",
   "metadata": {},
   "outputs": [],
   "source": [
    "df = pd.read_csv(\"data/test.csv\")"
   ]
  },
  {
   "cell_type": "code",
   "execution_count": 38,
   "id": "264e82c1",
   "metadata": {},
   "outputs": [
    {
     "data": {
      "text/html": [
       "<div>\n",
       "<style scoped>\n",
       "    .dataframe tbody tr th:only-of-type {\n",
       "        vertical-align: middle;\n",
       "    }\n",
       "\n",
       "    .dataframe tbody tr th {\n",
       "        vertical-align: top;\n",
       "    }\n",
       "\n",
       "    .dataframe thead th {\n",
       "        text-align: right;\n",
       "    }\n",
       "</style>\n",
       "<table border=\"1\" class=\"dataframe\">\n",
       "  <thead>\n",
       "    <tr style=\"text-align: right;\">\n",
       "      <th></th>\n",
       "      <th>article</th>\n",
       "      <th>label</th>\n",
       "    </tr>\n",
       "  </thead>\n",
       "  <tbody>\n",
       "    <tr>\n",
       "      <th>0</th>\n",
       "      <td>The president has yet to clarify what victory ...</td>\n",
       "      <td>right</td>\n",
       "    </tr>\n",
       "    <tr>\n",
       "      <th>1</th>\n",
       "      <td>SHARETo hear President Joe Biden tell it, the ...</td>\n",
       "      <td>right</td>\n",
       "    </tr>\n",
       "    <tr>\n",
       "      <th>2</th>\n",
       "      <td>SHAREThe mainstream media's honeymoon with Pre...</td>\n",
       "      <td>right</td>\n",
       "    </tr>\n",
       "    <tr>\n",
       "      <th>3</th>\n",
       "      <td>The \"Squad\" makes a demand for which there is ...</td>\n",
       "      <td>right</td>\n",
       "    </tr>\n",
       "    <tr>\n",
       "      <th>4</th>\n",
       "      <td>The restraint crowd delivers America's humilia...</td>\n",
       "      <td>right</td>\n",
       "    </tr>\n",
       "  </tbody>\n",
       "</table>\n",
       "</div>"
      ],
      "text/plain": [
       "                                             article  label\n",
       "0  The president has yet to clarify what victory ...  right\n",
       "1  SHARETo hear President Joe Biden tell it, the ...  right\n",
       "2  SHAREThe mainstream media's honeymoon with Pre...  right\n",
       "3  The \"Squad\" makes a demand for which there is ...  right\n",
       "4  The restraint crowd delivers America's humilia...  right"
      ]
     },
     "execution_count": 38,
     "metadata": {},
     "output_type": "execute_result"
    }
   ],
   "source": [
    "df.head()"
   ]
  },
  {
   "cell_type": "code",
   "execution_count": 39,
   "id": "c70b35f2",
   "metadata": {},
   "outputs": [],
   "source": [
    "X, y = df.article, df.label"
   ]
  },
  {
   "cell_type": "code",
   "execution_count": 40,
   "id": "fe9e1ead",
   "metadata": {},
   "outputs": [],
   "source": [
    "def modify(string):\n",
    "    string = string[1:-1]\n",
    "    for i in [\"'\",'\"',\"[\",\"]\",\",\",\"`\",\"’\"]:\n",
    "        string = string.replace(i,\"\")\n",
    "    return string"
   ]
  },
  {
   "cell_type": "code",
   "execution_count": 41,
   "id": "84f55c66",
   "metadata": {},
   "outputs": [
    {
     "data": {
      "text/plain": [
       "0    The president has yet to clarify what victory ...\n",
       "1    SHARETo hear President Joe Biden tell it, the ...\n",
       "2    SHAREThe mainstream media's honeymoon with Pre...\n",
       "3    The \"Squad\" makes a demand for which there is ...\n",
       "4    The restraint crowd delivers America's humilia...\n",
       "Name: article, dtype: object"
      ]
     },
     "execution_count": 41,
     "metadata": {},
     "output_type": "execute_result"
    }
   ],
   "source": [
    "X.head()"
   ]
  },
  {
   "cell_type": "code",
   "execution_count": 42,
   "id": "35888d6c",
   "metadata": {},
   "outputs": [],
   "source": [
    "#X = X.apply(lambda x: modify(x))"
   ]
  },
  {
   "cell_type": "code",
   "execution_count": 43,
   "id": "ae9505fe",
   "metadata": {},
   "outputs": [
    {
     "data": {
      "text/plain": [
       "0    The president has yet to clarify what victory ...\n",
       "1    SHARETo hear President Joe Biden tell it, the ...\n",
       "2    SHAREThe mainstream media's honeymoon with Pre...\n",
       "3    The \"Squad\" makes a demand for which there is ...\n",
       "4    The restraint crowd delivers America's humilia...\n",
       "Name: article, dtype: object"
      ]
     },
     "execution_count": 43,
     "metadata": {},
     "output_type": "execute_result"
    }
   ],
   "source": [
    "X.head()"
   ]
  },
  {
   "cell_type": "code",
   "execution_count": 44,
   "id": "a0619dec",
   "metadata": {},
   "outputs": [],
   "source": [
    "X_train, X_test, y_train, y_test = train_test_split(X,y, random_state=42)"
   ]
  },
  {
   "cell_type": "code",
   "execution_count": 45,
   "id": "b941932d",
   "metadata": {},
   "outputs": [],
   "source": [
    "from sklearn.feature_extraction.text import CountVectorizer\n",
    "count_vect = CountVectorizer()\n",
    "X_train_counts = count_vect.fit_transform(X_train)"
   ]
  },
  {
   "cell_type": "code",
   "execution_count": 46,
   "id": "01408d5c",
   "metadata": {},
   "outputs": [
    {
     "data": {
      "text/plain": [
       "(2619, 31949)"
      ]
     },
     "execution_count": 46,
     "metadata": {},
     "output_type": "execute_result"
    }
   ],
   "source": [
    "X_train_counts.shape"
   ]
  },
  {
   "cell_type": "code",
   "execution_count": 47,
   "id": "ce1129b3",
   "metadata": {},
   "outputs": [],
   "source": [
    "from sklearn.feature_extraction.text import TfidfTransformer\n",
    "tfidf_transformer = TfidfTransformer()\n",
    "X_train_tfidf = tfidf_transformer.fit_transform(X_train_counts)"
   ]
  },
  {
   "cell_type": "code",
   "execution_count": 48,
   "id": "ba828388",
   "metadata": {},
   "outputs": [
    {
     "data": {
      "text/plain": [
       "(2619, 31949)"
      ]
     },
     "execution_count": 48,
     "metadata": {},
     "output_type": "execute_result"
    }
   ],
   "source": [
    "X_train_tfidf.shape"
   ]
  },
  {
   "cell_type": "code",
   "execution_count": 49,
   "id": "fc33eedc",
   "metadata": {},
   "outputs": [],
   "source": [
    "from sklearn.naive_bayes import MultinomialNB\n",
    "clf = MultinomialNB().fit(X_train_tfidf, y_train)"
   ]
  },
  {
   "cell_type": "markdown",
   "id": "3549abb8",
   "metadata": {},
   "source": [
    "# BUILDING PIPELINE"
   ]
  },
  {
   "cell_type": "code",
   "execution_count": 50,
   "id": "01cd9581",
   "metadata": {},
   "outputs": [],
   "source": [
    "from sklearn.pipeline import Pipeline"
   ]
  },
  {
   "cell_type": "code",
   "execution_count": 51,
   "id": "3aea5023",
   "metadata": {},
   "outputs": [],
   "source": [
    "text_clf = Pipeline([('vect', CountVectorizer()),\n",
    "                     ('tfidf', TfidfTransformer()),\n",
    "                     ('clf', MultinomialNB()),\n",
    "                    ])"
   ]
  },
  {
   "cell_type": "code",
   "execution_count": 52,
   "id": "91b60332",
   "metadata": {},
   "outputs": [],
   "source": [
    "text_clf = text_clf.fit(X_train, y_train)"
   ]
  },
  {
   "cell_type": "code",
   "execution_count": 53,
   "id": "884c612c",
   "metadata": {},
   "outputs": [],
   "source": [
    "import numpy as np\n",
    "preds = text_clf.predict(X_test)"
   ]
  },
  {
   "cell_type": "code",
   "execution_count": 54,
   "id": "6747a8cd",
   "metadata": {},
   "outputs": [
    {
     "data": {
      "text/plain": [
       "0.8247422680412371"
      ]
     },
     "execution_count": 54,
     "metadata": {},
     "output_type": "execute_result"
    }
   ],
   "source": [
    "np.mean(preds == y_test)"
   ]
  },
  {
   "cell_type": "code",
   "execution_count": 55,
   "id": "b4c7a310",
   "metadata": {},
   "outputs": [],
   "source": [
    "from sklearn.linear_model import SGDClassifier"
   ]
  },
  {
   "cell_type": "code",
   "execution_count": 56,
   "id": "eee25307",
   "metadata": {},
   "outputs": [],
   "source": [
    "text_clf_svm = Pipeline([\n",
    "    ('vect', CountVectorizer()),\n",
    "    ('tfidf', TfidfTransformer()),\n",
    "    ('clf_svm', SGDClassifier(loss='hinge',\n",
    "                              penalty='l2',\n",
    "                              alpha=1e-3,\n",
    "                              n_iter_no_change=5,\n",
    "                              n_jobs=-1,\n",
    "                              random_state=42)),\n",
    "])"
   ]
  },
  {
   "cell_type": "code",
   "execution_count": 57,
   "id": "8a6653a4",
   "metadata": {},
   "outputs": [
    {
     "data": {
      "text/plain": [
       "0.9381443298969072"
      ]
     },
     "execution_count": 57,
     "metadata": {},
     "output_type": "execute_result"
    }
   ],
   "source": [
    "text_clf_svm = text_clf_svm.fit(X_train, y_train)\n",
    "preds = text_clf_svm.predict(X_test)\n",
    "np.mean(preds == y_test)"
   ]
  },
  {
   "cell_type": "code",
   "execution_count": 58,
   "id": "4defce5b",
   "metadata": {},
   "outputs": [],
   "source": [
    "from sklearn.model_selection import GridSearchCV"
   ]
  },
  {
   "cell_type": "code",
   "execution_count": 59,
   "id": "b9f30351",
   "metadata": {},
   "outputs": [],
   "source": [
    "parameters = {\n",
    "    'vect__ngram_range': [(1,1),(1,2)],\n",
    "    'tfidf__use_idf': (True, False),\n",
    "    'clf__alpha': (1e-2, 1e-3),\n",
    "}"
   ]
  },
  {
   "cell_type": "code",
   "execution_count": 60,
   "id": "bb32b7e4",
   "metadata": {},
   "outputs": [],
   "source": [
    "gs_clf = GridSearchCV(text_clf, parameters, n_jobs=-1)\n",
    "gs_clf = gs_clf.fit(X_train, y_train)"
   ]
  },
  {
   "cell_type": "code",
   "execution_count": 61,
   "id": "7a60e9a1",
   "metadata": {},
   "outputs": [
    {
     "data": {
      "text/plain": [
       "0.921726533650548"
      ]
     },
     "execution_count": 61,
     "metadata": {},
     "output_type": "execute_result"
    }
   ],
   "source": [
    "gs_clf.best_score_"
   ]
  },
  {
   "cell_type": "code",
   "execution_count": 62,
   "id": "374651f7",
   "metadata": {},
   "outputs": [
    {
     "data": {
      "text/plain": [
       "{'clf__alpha': 0.001, 'tfidf__use_idf': False, 'vect__ngram_range': (1, 2)}"
      ]
     },
     "execution_count": 62,
     "metadata": {},
     "output_type": "execute_result"
    }
   ],
   "source": [
    "gs_clf.best_params_"
   ]
  },
  {
   "cell_type": "code",
   "execution_count": 65,
   "id": "7e548b94",
   "metadata": {},
   "outputs": [],
   "source": [
    "parameters_svm = {\n",
    "    'vect__ngram_range': [(1,1), (1,2)],\n",
    "    'tfidf__use_idf': (True, False),\n",
    "    'clf_svm__alpha':(1e-2, 1e-3),\n",
    "}"
   ]
  },
  {
   "cell_type": "code",
   "execution_count": 66,
   "id": "5a989a6b",
   "metadata": {},
   "outputs": [],
   "source": [
    "gs_clf_svm = GridSearchCV(text_clf_svm, parameters_svm, n_jobs=-1)\n",
    "gs_clf_svm = gs_clf_svm.fit(X_train, y_train)"
   ]
  },
  {
   "cell_type": "code",
   "execution_count": 68,
   "id": "e1274e78",
   "metadata": {},
   "outputs": [
    {
     "name": "stdout",
     "output_type": "stream",
     "text": [
      "0.9381555325266738\n"
     ]
    },
    {
     "data": {
      "text/plain": [
       "{'clf_svm__alpha': 0.001, 'tfidf__use_idf': True, 'vect__ngram_range': (1, 1)}"
      ]
     },
     "execution_count": 68,
     "metadata": {},
     "output_type": "execute_result"
    }
   ],
   "source": [
    "print(gs_clf_svm.best_score_)\n",
    "gs_clf_svm.best_params_"
   ]
  },
  {
   "cell_type": "code",
   "execution_count": 70,
   "id": "35c6aa59",
   "metadata": {},
   "outputs": [
    {
     "data": {
      "text/plain": [
       "0.8579610538373424"
      ]
     },
     "execution_count": 70,
     "metadata": {},
     "output_type": "execute_result"
    }
   ],
   "source": [
    "text_clf = Pipeline([('vect', CountVectorizer(stop_words='english')),\n",
    "                     ('tfidf', TfidfTransformer()),\n",
    "                     ('clf', MultinomialNB()),\n",
    "                    ])\n",
    "text_clf = text_clf.fit(X_train, y_train)\n",
    "preds = text_clf.predict(X_test)\n",
    "np.mean(preds == y_test)"
   ]
  },
  {
   "cell_type": "code",
   "execution_count": 71,
   "id": "5c32f830",
   "metadata": {},
   "outputs": [],
   "source": [
    "gs_clf = GridSearchCV(text_clf, parameters, n_jobs=-1)\n",
    "gs_clf = gs_clf.fit(X_train, y_train)"
   ]
  },
  {
   "cell_type": "code",
   "execution_count": 72,
   "id": "46342e6b",
   "metadata": {},
   "outputs": [
    {
     "data": {
      "text/plain": [
       "0.9286011413892254"
      ]
     },
     "execution_count": 72,
     "metadata": {},
     "output_type": "execute_result"
    }
   ],
   "source": [
    "gs_clf.best_score_"
   ]
  },
  {
   "cell_type": "code",
   "execution_count": 73,
   "id": "26be2031",
   "metadata": {},
   "outputs": [
    {
     "data": {
      "text/plain": [
       "{'clf__alpha': 0.001, 'tfidf__use_idf': False, 'vect__ngram_range': (1, 2)}"
      ]
     },
     "execution_count": 73,
     "metadata": {},
     "output_type": "execute_result"
    }
   ],
   "source": [
    "gs_clf.best_params_"
   ]
  },
  {
   "cell_type": "code",
   "execution_count": 74,
   "id": "ff79161e",
   "metadata": {},
   "outputs": [],
   "source": [
    "text_clf_svm = Pipeline([\n",
    "    ('vect', CountVectorizer(stop_words='english')),\n",
    "    ('tfidf', TfidfTransformer()),\n",
    "    ('clf_svm', SGDClassifier(loss='hinge',\n",
    "                              penalty='l2',\n",
    "                              alpha=1e-3,\n",
    "                              n_iter_no_change=5,\n",
    "                              n_jobs=-1,\n",
    "                              random_state=42)),\n",
    "])"
   ]
  },
  {
   "cell_type": "code",
   "execution_count": 75,
   "id": "201609b4",
   "metadata": {},
   "outputs": [
    {
     "data": {
      "text/plain": [
       "0.9495990836197021"
      ]
     },
     "execution_count": 75,
     "metadata": {},
     "output_type": "execute_result"
    }
   ],
   "source": [
    "text_clf_svm = text_clf_svm.fit(X_train, y_train)\n",
    "preds = text_clf_svm.predict(X_test)\n",
    "np.mean(preds == y_test)"
   ]
  },
  {
   "cell_type": "code",
   "execution_count": 76,
   "id": "622cbc63",
   "metadata": {},
   "outputs": [],
   "source": [
    "gs_clf_svm = GridSearchCV(text_clf_svm, parameters_svm, n_jobs=-1)\n",
    "gs_clf_svm = gs_clf_svm.fit(X_train, y_train)"
   ]
  },
  {
   "cell_type": "code",
   "execution_count": 77,
   "id": "9a7dbc8b",
   "metadata": {},
   "outputs": [
    {
     "name": "stdout",
     "output_type": "stream",
     "text": [
      "0.9599156364485572\n"
     ]
    },
    {
     "data": {
      "text/plain": [
       "{'clf_svm__alpha': 0.001, 'tfidf__use_idf': False, 'vect__ngram_range': (1, 2)}"
      ]
     },
     "execution_count": 77,
     "metadata": {},
     "output_type": "execute_result"
    }
   ],
   "source": [
    "print(gs_clf_svm.best_score_)\n",
    "gs_clf_svm.best_params_"
   ]
  },
  {
   "cell_type": "code",
   "execution_count": 78,
   "id": "4f83c10d",
   "metadata": {},
   "outputs": [
    {
     "name": "stdout",
     "output_type": "stream",
     "text": [
      "showing info https://raw.githubusercontent.com/nltk/nltk_data/gh-pages/index.xml\n"
     ]
    },
    {
     "data": {
      "text/plain": [
       "True"
      ]
     },
     "execution_count": 78,
     "metadata": {},
     "output_type": "execute_result"
    }
   ],
   "source": [
    "import nltk\n",
    "nltk.download()"
   ]
  },
  {
   "cell_type": "code",
   "execution_count": 79,
   "id": "cbd63d63",
   "metadata": {},
   "outputs": [],
   "source": [
    "from nltk.stem.snowball import SnowballStemmer"
   ]
  },
  {
   "cell_type": "code",
   "execution_count": 80,
   "id": "6c5e73e0",
   "metadata": {},
   "outputs": [],
   "source": [
    "stemmer = SnowballStemmer(\"english\", ignore_stopwords=True)"
   ]
  },
  {
   "cell_type": "code",
   "execution_count": 81,
   "id": "7e4c6c88",
   "metadata": {},
   "outputs": [],
   "source": [
    "class StemmerCountVectorizer(CountVectorizer):\n",
    "    def build_analyzer(self):\n",
    "        analyzer = super(StemmerCountVectorizer, self).build_analyzer()\n",
    "        return lambda doc: ([stemmer.stem(w) for w in analyzer(doc)])"
   ]
  },
  {
   "cell_type": "code",
   "execution_count": 82,
   "id": "18947c73",
   "metadata": {},
   "outputs": [],
   "source": [
    "stemmed_count_vect = StemmerCountVectorizer(stop_words='english')"
   ]
  },
  {
   "cell_type": "code",
   "execution_count": 91,
   "id": "226b1c84",
   "metadata": {},
   "outputs": [],
   "source": [
    "text_mnb_stemmed = Pipeline([\n",
    "    ('vect', stemmed_count_vect),\n",
    "    ('tfidf', TfidfTransformer()),\n",
    "    ('mnb', MultinomialNB(fit_prior=False)),\n",
    "])"
   ]
  },
  {
   "cell_type": "code",
   "execution_count": 92,
   "id": "a6d99d28",
   "metadata": {},
   "outputs": [],
   "source": [
    "text_mnb_stemmed = text_mnb_stemmed.fit(X_train, y_train)"
   ]
  },
  {
   "cell_type": "code",
   "execution_count": 93,
   "id": "6b7c5ab2",
   "metadata": {},
   "outputs": [],
   "source": [
    "preds_mnb_stemmed = text_mnb_stemmed.predict(X_test)"
   ]
  },
  {
   "cell_type": "code",
   "execution_count": 94,
   "id": "21fbcd5a",
   "metadata": {},
   "outputs": [
    {
     "data": {
      "text/plain": [
       "0.861397479954181"
      ]
     },
     "execution_count": 94,
     "metadata": {},
     "output_type": "execute_result"
    }
   ],
   "source": [
    "np.mean((preds_mnb_stemmed == y_test))"
   ]
  },
  {
   "cell_type": "code",
   "execution_count": 96,
   "id": "81313920",
   "metadata": {},
   "outputs": [],
   "source": [
    "text_svm_stemmed = Pipeline([\n",
    "    ('vect', stemmed_count_vect),\n",
    "    ('tfidf', TfidfTransformer()),\n",
    "    ('svm', SGDClassifier(loss='hinge',\n",
    "                              penalty='l2',\n",
    "                              alpha=1e-3,\n",
    "                              n_iter_no_change=5,\n",
    "                              n_jobs=-1,\n",
    "                              random_state=42)),\n",
    "])"
   ]
  },
  {
   "cell_type": "code",
   "execution_count": 97,
   "id": "75687aa6",
   "metadata": {},
   "outputs": [],
   "source": [
    "text_svm_stemmed = text_svm_stemmed.fit(X_train, y_train)"
   ]
  },
  {
   "cell_type": "code",
   "execution_count": 98,
   "id": "fc683b05",
   "metadata": {},
   "outputs": [],
   "source": [
    "preds_svm_stemmed = text_svm_stemmed.predict(X_test)"
   ]
  },
  {
   "cell_type": "code",
   "execution_count": 99,
   "id": "00626b37",
   "metadata": {},
   "outputs": [
    {
     "data": {
      "text/plain": [
       "0.9461626575028637"
      ]
     },
     "execution_count": 99,
     "metadata": {},
     "output_type": "execute_result"
    }
   ],
   "source": [
    "np.mean((preds_svm_stemmed == y_test))"
   ]
  },
  {
   "cell_type": "code",
   "execution_count": 100,
   "id": "0ea2bc22",
   "metadata": {},
   "outputs": [],
   "source": [
    "text = \"Arizona’s highly controversial election audit wrapped up Friday as the GOP-backed company conducting it announced the investigation had actually increased President Joe Biden’s margin of victory—but Republicans in multiple other states are already underway on other probes that could sow new doubts in the presidential vote count. Three different election investigations are underway in Wisconsin: an investigation initiated by Republican Assembly Speaker Robin Vos, a separate so-called forensic audit modeled after Arizona by GOP Rep. Janel Brandtjen and an investigation by the state’s nonpartisan Legislative Audit Bureau, which the Republican-led legislature asked it to conduct.While Brandtjen’s audit has stalled after Vos refused to sign subpoenas for counties’ election equipment, Vos’ investigation is moving forward, led by a former state Supreme Court justice who has expressed openness to MyPillow CEO Mike Lindell’s baseless claims of election fraud.Ex-justice Michael Gableman sent emails to local election clerks asking them to preserve election-related records—but the email was flagged as a security risk or junk mail for many of the counties because it came from a Gmail account seemingly unconnected to Gableman, the Associated Press reports, and many clerks are ignoring his requests. Pennsylvania’s election audit is now underway after a contentious power struggle over which Republican lawmaker would lead it, as GOP state senators started hearings in the investigation and controversially subpoenaed the state for personal information on all of Pennsylvania’s 6.9 million voters.Democrats in the state are pushing back on the subpoenas, with both state senators and Pennsylvania Attorney General Josh Shapiro suing to block them.Former President Donald Trump asked Texas on Thursday to conduct an audit into the state’s election results—despite winning the state with 52% of the vote—and the Texas Secretary of State’s office complied, launching investigations into four counties’ vote counts.99. That’s the number of additional votes for Biden in Maricopa County that Cyber Ninjas—the controversial private company leading the Arizona audit—counted as compared with the state’s official tally. The audit also found 261 fewer votes for Trump than the state.“Why do we audit everything in this world, but people raise their hands in concern when we audit elections, which is fundamental to our democracy?” Texas Gov. Greg Abbott said on Fox News Sunday in defense of the state’s election audit. The governor also claimed the election investigations “began months ago” and “were already underway,” but host Chris Wallace noted the counties’ investigations were only publicly announced hours after Trump made his request to the state. (Abbott did not offer any clarification on that timeline.)The chairman of Wisconsin’s Republican Party of Fond du Lac County said on Twitter after the Arizona audit results came out that he hoped the findings mean “my fellow [Republicans will] stop with this nonsense, and begin to focus on 2022 elections.” “Right now [the] GOP effort is hacking off Republican clerks, and alienating soft GOP voters who think we’re nuts and wasting their tax dollars,” Rohn W. Bishop said.While proponents of GOP election investigations typically refer to their efforts as “forensic audits,” that term has been disputed as inaccurate. Election experts cited by Georgia Public Broadcasting explained the term typically refers to financial investigations that examine “minute details” that can be traced to individual accounts, which is impossible with election ballots that are submitted anonymously. The Associated Press also notes that “forensic” is traditionally used to describe investigations into a crime, but there is no evidence to support that any such crimes occurred in the 2020 elections, including the baseless allegations of fraud pushed by Trump and his supporters.The Arizona audit results released Friday brought to an end a months-long investigation into the vote count that had drawn heavy criticism for issues like a lack of transparency and privacy and concerns about how it was being funded. The House Oversight Committee is now investigating the audit, which cost nearly $6 million, though that hasn’t stopped the election probe from becoming a source of inspiration to other GOP lawmakers across the country. The Arizona audit and its copycats will not have any actual effect on the official election results, which have already been certified. The probes have been criticized for helping to undermine faith in the vote count and further stoke baseless allegations that the election was “rigged,” however, which there is no evidence to support. Numerous official audits conducted by state and local governments have confirmed the election results’ accuracy and have not found any widespread issues. The Biden administration has also warned the right-wing election audits may violate federal law by taking election materials out of election officials’ possession.\""
   ]
  },
  {
   "cell_type": "code",
   "execution_count": 102,
   "id": "3d995a7a",
   "metadata": {},
   "outputs": [],
   "source": [
    "pr_text = text_svm_stemmed.predict([text])"
   ]
  },
  {
   "cell_type": "code",
   "execution_count": 105,
   "id": "e9a76401",
   "metadata": {},
   "outputs": [
    {
     "data": {
      "text/plain": [
       "array(['center', 'left', 'right'], dtype='<U6')"
      ]
     },
     "execution_count": 105,
     "metadata": {},
     "output_type": "execute_result"
    }
   ],
   "source": [
    "text_svm_stemmed.classes_"
   ]
  },
  {
   "cell_type": "code",
   "execution_count": 106,
   "id": "52e8e9e1",
   "metadata": {},
   "outputs": [],
   "source": [
    "text2 = \"\"\"\n",
    "However, Biden made it clear that he does not believe the “full promise of equality” has been reached yet, citing “anti-LGBTQ+ bills” which he believes are proliferating state legislatures.\n",
    "“Bullying and harassment — particularly of young transgender Americans and LGBTQ+ people of color — still abounds, diminishing our national character,” he claimed, touting the necessity of advancing the Equality act — a bill which effectively replaces the fundamental concept of biological sex in favor of gender identity. The radical piece of legislation would severely affect women, specifically, as it would destroy women’s sports and eliminate the traditional right to privacy for women in public facilities because gender identity, rather than biological sex, would be prioritized.\n",
    "“To LGBTQ+ people across the country, and especially those who are contemplating coming out: know that you are loved for who you are, you are admired for your courage, and you will have a community — and a nation — to welcome you,” Biden concluded, promising to “always” have their back.\n",
    "Biden’s statement follows a bout of absurdity displayed by Canadian Prime Minister Justin Trudeau last week, using the phrase “2SLGBTQQIA+ people” in a social media post honoring “Indigenous women, girls, and 2SLGBTQQIA+ people who are missing or have been murdered”:\n",
    "\"\"\""
   ]
  },
  {
   "cell_type": "code",
   "execution_count": 113,
   "id": "027f8ccf",
   "metadata": {},
   "outputs": [
    {
     "data": {
      "text/plain": [
       "array(['left', 'left', 'left', 'left'], dtype='<U6')"
      ]
     },
     "execution_count": 113,
     "metadata": {},
     "output_type": "execute_result"
    }
   ],
   "source": [
    "text_svm_stemmed.predict([text, text2, text3, text4])"
   ]
  },
  {
   "cell_type": "code",
   "execution_count": 110,
   "id": "9fd6f00d",
   "metadata": {},
   "outputs": [],
   "source": [
    "text3 = \"\"\"\n",
    "North Carolina Lt. Gov. Mark Robinson (R) has made clear that he will not succumb to the leftist calls for his resignation for labeling the promotion of “trangenderism” and “homosexuality” in schools as “filth.”\n",
    "He referred to the promotion of transgenderism and homosexuality as ‘filth’ in a clip that was recorded in June at Asbury Baptist Church, in Seagrove North Carolina, according to CBS 17. The clip has recently made its way around social media.\n",
    "“There’s no reason anybody anywhere in America should be telling any child about transgenderism, homosexuality, any of that filth,” Robinson says in the video. “And yes I called it filth. And if you don’t like it that I called it filth come see me, and I’ll explain it to you.”\n",
    "The video has sparked outrage on the left. Deputy White House press secretary Andrew Bates referred to the clip as “repugnant and offensive,” according to Fox News.\n",
    "“For several days now, I have been viciously attacked because of a clip video where I talk about removing the sexualization of children from the classrooms in our public education system,” Robinson states at the beginning of the video.\n",
    "“Well let me tell you plainly right here and right now: I will not back down. I will not be silenced, and I will not be bullied into submission,” Robinson added. “I will continue to fight for the rights of our children to receive an education, that is free from sexual concepts that do not belong in the classroom, and I don’t care who doesn’t like it.”\n",
    "Robinson highlighted how the left has aimed to make his comments about the LGBTQ community rather than a conversation regarding explicit content in the classroom.\n",
    "“Of course, the media and those on the left have tried to change the focus from education to the LGBTQ community, specifically that I hate them,” Robinson states. “Let me be clear, I will fight for and protect the rights of all citizens, including those in the LGBTQ community to express themselves however they want. That is their right as Americans and I don’t think that government has any role in telling them otherwise.”\n",
    "“However the idea that our children should be taught about concepts of transgenderism and be exposed to sexually explicit materials in the classroom is abhorrent,” he stated. \n",
    "\"\"\""
   ]
  },
  {
   "cell_type": "code",
   "execution_count": 112,
   "id": "6680885a",
   "metadata": {},
   "outputs": [],
   "source": [
    "text4 = \"\"\"\n",
    "On Sunday, Fox News Channel “Life, Liberty & Levin” host Mark Levin warned that the First Amendment is under attack by Attorney General Merrick Garland and the Biden administration.\n",
    "According to Levin, the Biden administration and the National School Boards Association “conspired” and “colluded” to silence parents who are expressing their First Amendment rights by recently announcing that the Department of Justice would intervene to address perceived threats against educators and school boards.\n",
    "“The First Amendment of the Constitution of the United States, the Bill of Rights, is under attack by the Attorney General of the United States, Merrick Garland, and his staff,” Levin opened his Sunday show. “And now we have learned it is also under attack by Joe Biden’s staff, as well as others at the White House in a coordinated attack to try to silence parents and taxpayers, the citizens of this nation who elect their school boards, who send their children into these classrooms. Why? Because they are challenging the poison, the rot, the radical Marxist propaganda that is being taught to your children from kindergarten through 12th grade, and apparently that is too much for them to tolerate.”\n",
    "He continued, “Ladies and gentlemen, this is the memo that will go down in history as one of the most egregious violations of your liberty. It is a memo that is signed by Merrick Garland. … And make no mistake about it — parents in this country, they’re going to spy on you, they’re going to gather intelligence on you on, they’re going to track you and organizations that you belong to, and a special phone number is set up so if a teacher or a bureaucrat or union or whomever thinks if you are threatening or harassing them, they will set loose the FBI to come to your home and to interview you. Among other things in this memo, loose language like they’re going to look at efforts to intimidate individuals based on their views. They’re going to be committed to using their authority and their resources. They have a dedicated line of communication for threat reporting. Now, there’s a problem here: The federal government has absolutely no authority whatsoever in the classroom, in the school district, at board meetings, period. There is no federal nexus of any kind whatsoever, and they know it.”\n",
    "\"\"\""
   ]
  },
  {
   "cell_type": "code",
   "execution_count": 115,
   "id": "4b873f37",
   "metadata": {},
   "outputs": [
    {
     "data": {
      "text/plain": [
       "(295     Here’s a line to amuse your liberal pals: When...\n",
       " 718     We’ve been hearing a lot of speculation that t...\n",
       " 952     Physicians spreading medical misinformation, p...\n",
       " 2561    WASHINGTON, D.C. -- Eighty-two percent of Amer...\n",
       " 2547    WASHINGTON, D.C. -- Fifty-six percent of Ameri...\n",
       " 2310    WASHINGTON, D.C. -- According to the latest We...\n",
       " 1084    Physicians spreading medical misinformation, p...\n",
       " 144     It is becoming so painfully clear that those i...\n",
       " 1588    MyPillow CEO Mike Lindell has a new date for a...\n",
       " 2162    Former National Security Agency contractor Rea...\n",
       " Name: article, dtype: object,\n",
       " 0    right\n",
       " 1    right\n",
       " 2    right\n",
       " 3    right\n",
       " 4    right\n",
       " 5    right\n",
       " 6    right\n",
       " 7    right\n",
       " 8    right\n",
       " 9    right\n",
       " Name: label, dtype: object)"
      ]
     },
     "execution_count": 115,
     "metadata": {},
     "output_type": "execute_result"
    }
   ],
   "source": [
    "X_test[:10], y[:10]"
   ]
  },
  {
   "cell_type": "code",
   "execution_count": 116,
   "id": "f62da45d",
   "metadata": {},
   "outputs": [
    {
     "data": {
      "text/plain": [
       "array(['right', 'right', 'right', 'center', 'center', 'center', 'right',\n",
       "       'right', 'left', 'left'], dtype='<U6')"
      ]
     },
     "execution_count": 116,
     "metadata": {},
     "output_type": "execute_result"
    }
   ],
   "source": [
    "text_svm_stemmed.predict(X_test[:10])"
   ]
  },
  {
   "cell_type": "code",
   "execution_count": 121,
   "id": "35075ba5",
   "metadata": {},
   "outputs": [],
   "source": [
    "from sklearn.metrics import f1_score, confusion_matrix"
   ]
  },
  {
   "cell_type": "code",
   "execution_count": 120,
   "id": "734f5be0",
   "metadata": {},
   "outputs": [
    {
     "data": {
      "text/plain": [
       "0.9461626575028637"
      ]
     },
     "execution_count": 120,
     "metadata": {},
     "output_type": "execute_result"
    }
   ],
   "source": [
    "f1_score(y_test, preds_svm_stemmed, average='micro')"
   ]
  },
  {
   "cell_type": "code",
   "execution_count": 122,
   "id": "6b17cb01",
   "metadata": {},
   "outputs": [
    {
     "data": {
      "text/plain": [
       "array([[288,  18,   0],\n",
       "       [  8, 204,   7],\n",
       "       [  0,  14, 334]])"
      ]
     },
     "execution_count": 122,
     "metadata": {},
     "output_type": "execute_result"
    }
   ],
   "source": [
    "confusion_matrix(y_test, preds_svm_stemmed)"
   ]
  },
  {
   "cell_type": "code",
   "execution_count": null,
   "id": "14de74b0",
   "metadata": {},
   "outputs": [],
   "source": []
  }
 ],
 "metadata": {
  "kernelspec": {
   "display_name": "Python 3 (ipykernel)",
   "language": "python",
   "name": "python3"
  },
  "language_info": {
   "codemirror_mode": {
    "name": "ipython",
    "version": 3
   },
   "file_extension": ".py",
   "mimetype": "text/x-python",
   "name": "python",
   "nbconvert_exporter": "python",
   "pygments_lexer": "ipython3",
   "version": "3.8.8"
  }
 },
 "nbformat": 4,
 "nbformat_minor": 5
}
